{
 "cells": [
  {
   "cell_type": "code",
   "execution_count": 1,
   "id": "3844919f",
   "metadata": {
    "_cell_guid": "b1076dfc-b9ad-4769-8c92-a6c4dae69d19",
    "_uuid": "8f2839f25d086af736a60e9eeb907d3b93b6e0e5",
    "execution": {
     "iopub.execute_input": "2023-09-04T09:17:10.810429Z",
     "iopub.status.busy": "2023-09-04T09:17:10.810078Z",
     "iopub.status.idle": "2023-09-04T09:17:11.124683Z",
     "shell.execute_reply": "2023-09-04T09:17:11.122797Z"
    },
    "papermill": {
     "duration": 0.32272,
     "end_time": "2023-09-04T09:17:11.127581",
     "exception": false,
     "start_time": "2023-09-04T09:17:10.804861",
     "status": "completed"
    },
    "tags": []
   },
   "outputs": [
    {
     "name": "stdout",
     "output_type": "stream",
     "text": [
      "hello\n"
     ]
    }
   ],
   "source": [
    "#Gohel Sanjana D.\n",
    "#216270307093\n",
    "\n",
    "import numpy as np \n",
    "import pandas as pd\n",
    "\n",
    "print(\"hello\")"
   ]
  },
  {
   "cell_type": "code",
   "execution_count": 2,
   "id": "7345cae3",
   "metadata": {
    "execution": {
     "iopub.execute_input": "2023-09-04T09:17:11.137584Z",
     "iopub.status.busy": "2023-09-04T09:17:11.135932Z",
     "iopub.status.idle": "2023-09-04T09:17:11.143921Z",
     "shell.execute_reply": "2023-09-04T09:17:11.142521Z"
    },
    "papermill": {
     "duration": 0.014594,
     "end_time": "2023-09-04T09:17:11.145953",
     "exception": false,
     "start_time": "2023-09-04T09:17:11.131359",
     "status": "completed"
    },
    "tags": []
   },
   "outputs": [
    {
     "name": "stdout",
     "output_type": "stream",
     "text": [
      "30\n"
     ]
    }
   ],
   "source": [
    "#Gohel Sanjana D.\n",
    "#216270307093\n",
    "\n",
    "import numpy as py\n",
    "import pandas as pd\n",
    "\n",
    "a=10\n",
    "b=20\n",
    "sum=10+20\n",
    "print(sum)"
   ]
  },
  {
   "cell_type": "code",
   "execution_count": 3,
   "id": "636308c3",
   "metadata": {
    "execution": {
     "iopub.execute_input": "2023-09-04T09:17:11.154379Z",
     "iopub.status.busy": "2023-09-04T09:17:11.154015Z",
     "iopub.status.idle": "2023-09-04T09:17:11.162363Z",
     "shell.execute_reply": "2023-09-04T09:17:11.160854Z"
    },
    "papermill": {
     "duration": 0.015262,
     "end_time": "2023-09-04T09:17:11.164631",
     "exception": false,
     "start_time": "2023-09-04T09:17:11.149369",
     "status": "completed"
    },
    "tags": []
   },
   "outputs": [
    {
     "name": "stdout",
     "output_type": "stream",
     "text": [
      "[5 6 7 8 9]\n"
     ]
    }
   ],
   "source": [
    "#Gohel Sanjana D.\n",
    "#216270307093\n",
    "#Write a NumPy program to implement to convert a list of numeric values into a one-dimensional NumPy array\n",
    "\n",
    "import numpy as np\n",
    "\n",
    "# Create a list of numeric values\n",
    "numeric_list = [5,6,7,8,9]\n",
    "\n",
    "# Convert the list to a NumPy array\n",
    "numpy_array = np.array(numeric_list)\n",
    "\n",
    "# Print the resulting NumPy array\n",
    "print(numpy_array)\n",
    "\n",
    "\n"
   ]
  },
  {
   "cell_type": "code",
   "execution_count": 4,
   "id": "2090a007",
   "metadata": {
    "execution": {
     "iopub.execute_input": "2023-09-04T09:17:11.173597Z",
     "iopub.status.busy": "2023-09-04T09:17:11.173219Z",
     "iopub.status.idle": "2023-09-04T09:17:11.179413Z",
     "shell.execute_reply": "2023-09-04T09:17:11.178406Z"
    },
    "papermill": {
     "duration": 0.013651,
     "end_time": "2023-09-04T09:17:11.181843",
     "exception": false,
     "start_time": "2023-09-04T09:17:11.168192",
     "status": "completed"
    },
    "tags": []
   },
   "outputs": [
    {
     "name": "stdout",
     "output_type": "stream",
     "text": [
      "[[ 2  3  4]\n",
      " [ 5  6  7]\n",
      " [ 8  9 10]]\n"
     ]
    }
   ],
   "source": [
    "#Gohel Sanjana D.\n",
    "#216270307093\n",
    "#Write a NumPy program to create a 3x3 matrix with values ranging from 2 to 10\n",
    "\n",
    "import numpy as np\n",
    "\n",
    "# Create an array of values ranging from 2 to 10\n",
    "values = np.arange(2, 11)\n",
    "\n",
    "# Reshape the array into a 3x3 matrix\n",
    "matrix = values.reshape(3, 3)\n",
    "\n",
    "# Print the resulting matrix\n",
    "print(matrix)\n",
    "\n",
    "\n"
   ]
  },
  {
   "cell_type": "code",
   "execution_count": 5,
   "id": "3021e6a8",
   "metadata": {
    "execution": {
     "iopub.execute_input": "2023-09-04T09:17:11.190412Z",
     "iopub.status.busy": "2023-09-04T09:17:11.190126Z",
     "iopub.status.idle": "2023-09-04T09:17:11.194223Z",
     "shell.execute_reply": "2023-09-04T09:17:11.193024Z"
    },
    "papermill": {
     "duration": 0.011036,
     "end_time": "2023-09-04T09:17:11.196505",
     "exception": false,
     "start_time": "2023-09-04T09:17:11.185469",
     "status": "completed"
    },
    "tags": []
   },
   "outputs": [],
   "source": [
    "#Gohel Sanjana D.\n",
    "#216270307093\n",
    "#Write a NumPy program to create another shape from an array without changing its data (3*2 to 2*3) \n"
   ]
  },
  {
   "cell_type": "code",
   "execution_count": null,
   "id": "f2fb74db",
   "metadata": {
    "papermill": {
     "duration": 0.003147,
     "end_time": "2023-09-04T09:17:11.203271",
     "exception": false,
     "start_time": "2023-09-04T09:17:11.200124",
     "status": "completed"
    },
    "tags": []
   },
   "outputs": [],
   "source": []
  }
 ],
 "kernelspec": {
  "display_name": "Python 3",
  "language": "python",
  "name": "python3"
 },
 "language_info": {
  "codemirror_mode": {
   "name": "ipython",
   "version": 3
  },
  "file_extension": ".py",
  "mimetype": "text/x-python",
  "name": "python",
  "nbconvert_exporter": "python",
  "pygments_lexer": "ipython3",
  "version": "3.6.4"
 },
 "metadata": {
  "kernelspec": {
   "display_name": "Python 3",
   "language": "python",
   "name": "python3"
  },
  "language_info": {
   "codemirror_mode": {
    "name": "ipython",
    "version": 3
   },
   "file_extension": ".py",
   "mimetype": "text/x-python",
   "name": "python",
   "nbconvert_exporter": "python",
   "pygments_lexer": "ipython3",
   "version": "3.10.12"
  },
  "papermill": {
   "default_parameters": {},
   "duration": 3.805289,
   "end_time": "2023-09-04T09:17:11.627170",
   "environment_variables": {},
   "exception": null,
   "input_path": "__notebook__.ipynb",
   "output_path": "__notebook__.ipynb",
   "parameters": {},
   "start_time": "2023-09-04T09:17:07.821881",
   "version": "2.4.0"
  }
 },
 "nbformat": 4,
 "nbformat_minor": 5
}
